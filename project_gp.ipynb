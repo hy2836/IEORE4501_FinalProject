{
 "cells": [
  {
   "cell_type": "markdown",
   "metadata": {},
   "source": [
    "# NYC Apartment Search"
   ]
  },
  {
   "cell_type": "markdown",
   "metadata": {},
   "source": [
    "## Setup"
   ]
  },
  {
   "cell_type": "code",
   "execution_count": 1,
   "metadata": {},
   "outputs": [],
   "source": [
    "# Standard library imports\n",
    "import json\n",
    "import os\n",
    "import io\n",
    "import glob\n",
    "import warnings\n",
    "from datetime import datetime\n",
    "\n",
    "# File and path handling\n",
    "import pathlib\n",
    "\n",
    "# HTTP and URL handling\n",
    "import urllib.parse\n",
    "import requests\n",
    "\n",
    "# Data handling and analysis\n",
    "import pandas as pd\n",
    "import numpy as np\n",
    "import geopandas as gpd\n",
    "from geopandas.tools import sjoin\n",
    "\n",
    "# Database and SQL handling\n",
    "import psycopg2\n",
    "import sqlalchemy as db\n",
    "from sqlalchemy import create_engine, Column, Integer, String, Float, Date, text\n",
    "from sqlalchemy.orm import declarative_base, sessionmaker\n",
    "\n",
    "# Geometry and spatial analysis\n",
    "import shapely\n",
    "from shapely.geometry import Point, Polygon\n",
    "from shapely import wkt\n",
    "import geoalchemy2 as gdb\n",
    "from geoalchemy2 import Geometry\n",
    "\n",
    "# Visualization and plotting\n",
    "import matplotlib\n",
    "import matplotlib.pyplot as plt\n",
    "import matplotlib.animation as animation\n",
    "from matplotlib.animation import FuncAnimation\n",
    "import contextily as ctx\n",
    "import seaborn as sns\n",
    "from PIL import Image\n",
    "\n",
    "# IPython and widgets\n",
    "from IPython.display import Image as IPImage, display, HTML\n",
    "import ipywidgets as widgets\n",
    "from ipywidgets import interact, IntSlider\n",
    "from ipywidgets.embed import embed_minimal_html\n",
    "\n",
    "# Warnings configuration\n",
    "warnings.filterwarnings('ignore')"
   ]
  },
  {
   "cell_type": "code",
   "execution_count": 2,
   "metadata": {},
   "outputs": [],
   "source": [
    "# Where data files will be read from/written to - this should already exist\n",
    "DATA_DIR = pathlib.Path(\"data\")\n",
    "ZIPCODE_DATA_FILE = DATA_DIR / \"zipcodes\" / \"ZIP_CODE_040114.shp\"\n",
    "ZILLOW_DATA_FILE = DATA_DIR / \"zillow_rent_data.csv\"\n",
    "\n",
    "# Download NYC Data\n",
    "url_311 = 'https://data.cityofnewyork.us/resource/erm2-nwe9.csv'\n",
    "url_trees = 'https://data.cityofnewyork.us/resource/5rq2-4hqu.csv'\n",
    "NYC_DATA_APP_TOKEN = \"UYsSh8MfAPVog5LPL1G3ySktk\"\n",
    "BASE_NYC_DATA_URL = \"https://data.cityofnewyork.us/\"\n",
    "NYC_DATA_311 = \"erm2-nwe9.geojson\"\n",
    "NYC_DATA_TREES = \"5rq2-4hqu.geojson\"\n",
    "\n",
    "# create schema.sql file\n",
    "DB_SCHEMA_FILE = \"schema.sql\"\n",
    "# directory where DB queries for Part 3 will be saved\n",
    "QUERY_DIR = pathlib.Path(\"queries\")"
   ]
  },
  {
   "cell_type": "code",
   "execution_count": 3,
   "metadata": {},
   "outputs": [],
   "source": [
    "# Make sure the QUERY_DIRECTORY exists\n",
    "if not QUERY_DIR.exists():\n",
    "    QUERY_DIR.mkdir()"
   ]
  },
  {
   "cell_type": "markdown",
   "metadata": {},
   "source": [
    "## Part 1: Data Preprocessing"
   ]
  },
  {
   "cell_type": "markdown",
   "metadata": {},
   "source": [
    "### 1. Export Data"
   ]
  },
  {
   "cell_type": "code",
   "execution_count": null,
   "metadata": {},
   "outputs": [],
   "source": [
    "def download_nyc_geojson_data(url, app_token, filename, date_field, \n",
    "                              start_date, end_date, date_format=\"%Y-%m-%dT%H:%M:%S\", limit=10000):\n",
    "    \"\"\"\n",
    "    Downloads NYC GeoJSON data within a specified date range and writes it to a file.\n",
    "\n",
    "    This function fetches data from a specified URL using API requests, filtering the data based on a date range. It then writes the data into a file in batches, handling pagination through the 'offset' parameter.\n",
    "\n",
    "    Parameters:\n",
    "    - url (str): The URL endpoint for the API from which data is to be fetched.\n",
    "    - app_token (str): Application token for API access.\n",
    "    - filename (str): Name of the file where the downloaded data will be saved.\n",
    "    - date_field (str): The field in the data used to filter by date.\n",
    "    - start_date (datetime): The start date for the data query.\n",
    "    - end_date (datetime): The end date for the data query.\n",
    "    - date_format (str, optional): The format in which dates are represented. Defaults to \"%Y-%m-%dT%H:%M:%S\".\n",
    "    - limit (int, optional): The maximum number of records to fetch per request. Defaults to 10000.\n",
    "\n",
    "    Returns:\n",
    "    None. The function writes the data to the specified file and prints a message if any request fails.\n",
    "\n",
    "    The function iterates over batches of data until all records within the specified date range are retrieved and saved to the file. It ensures that the column headers are written only once and handles any HTTP errors encountered during the requests.\n",
    "    \"\"\"\n",
    "    offset = 0\n",
    "    start_date_str = start_date.strftime(date_format)\n",
    "    end_date_str = end_date.strftime(date_format)\n",
    "    date_query = f\"$where={date_field} between '{start_date_str}' and '{end_date_str}'\"\n",
    "    \n",
    "    # set up as the first batch\n",
    "    first_batch = True  \n",
    "    while True:\n",
    "        full_url = f\"{url}?$$app_token={app_token}&{date_query}&$limit={limit}&$offset={offset}\"\n",
    "        response = requests.get(full_url)\n",
    "\n",
    "        if response.status_code == 200:\n",
    "            data = response.text\n",
    "            # count the records have been exported\n",
    "            records_retrieved = data.count('\\n') \n",
    "            \n",
    "            # To check if it is the first batch and whether have value\n",
    "            if first_batch and records_retrieved > 0: \n",
    "                # only keep column name in the first batch\n",
    "                with open(filename, 'w') as file:\n",
    "                    file.write(data)\n",
    "                first_batch = False\n",
    "            elif records_retrieved > 1:  # \n",
    "                with open(filename, 'a') as file:\n",
    "                    # slip the column name\n",
    "                    file.write(data.split('\\n', 1)[1])  \n",
    "            \n",
    "            # to check if the data have been exported or not\n",
    "            if records_retrieved < limit + 1: \n",
    "                break\n",
    "            offset += limit\n",
    "        else:\n",
    "            print(f\"Failed to download data at offset {offset}: Status code {response.status_code}\")\n",
    "            break"
   ]
  },
  {
   "cell_type": "markdown",
   "metadata": {},
   "source": [
    "#### 1.1 Download tree 2015 data"
   ]
  },
  {
   "cell_type": "code",
   "execution_count": null,
   "metadata": {},
   "outputs": [],
   "source": [
    "# export tree data\n",
    "download_nyc_geojson_data(\n",
    "    url=url_trees,\n",
    "    app_token=NYC_DATA_APP_TOKEN,  \n",
    "    filename=\"data/tree_data.csv\",\n",
    "    date_field=\"created_at\",  \n",
    "    start_date=datetime(2015, 1, 1),\n",
    "    end_date=datetime(2015, 12, 31),\n",
    "    date_format=\"%m/%d/%Y\",  \n",
    "    limit=250000\n",
    ")"
   ]
  },
  {
   "cell_type": "markdown",
   "metadata": {},
   "source": [
    "**<span style=\"color: red;\">Test the function 1</span>**\n",
    "\n",
    "Test for File Existence: This test will check if the tree_data.csv file is created in the specified directory after executing the function."
   ]
  },
  {
   "cell_type": "code",
   "execution_count": null,
   "metadata": {},
   "outputs": [],
   "source": [
    "assert os.path.isfile(\"data/tree_data.csv\"), \"File tree_data.csv does not exist\""
   ]
  }
 ],
 "metadata": {
  "kernelspec": {
   "display_name": "base",
   "language": "python",
   "name": "python3"
  },
  "language_info": {
   "codemirror_mode": {
    "name": "ipython",
    "version": 3
   },
   "file_extension": ".py",
   "mimetype": "text/x-python",
   "name": "python",
   "nbconvert_exporter": "python",
   "pygments_lexer": "ipython3",
   "version": "3.8.8"
  }
 },
 "nbformat": 4,
 "nbformat_minor": 2
}
